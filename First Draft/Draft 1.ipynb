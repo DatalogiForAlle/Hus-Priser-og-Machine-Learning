{
 "cells": [
  {
   "cell_type": "code",
   "execution_count": null,
   "metadata": {},
   "outputs": [],
   "source": [
    "import pandas as pd\n",
    "import numpy as np\n",
    "import datanoutlibD1 # TODO: kan vi finde på et bedre navn til modulet?\n",
    "\n",
    "# TODO: Kan alle nedenstående loades og udstilles af datanoutlib, \n",
    "# for at minimere antal biblioteker elever skal overskue?\n",
    "\n",
    "%matplotlib inline  \n",
    "import matplotlib.pyplot as plot\n",
    "from pandas.plotting import scatter_matrix # ikke nødvendig længere\n",
    "from sklearn.base import BaseEstimator, TransformerMixin # bruges vist ikke\n",
    "from sklearn.model_selection import train_test_split # ikke nødvendig længere\n",
    "from sklearn.model_selection import StratifiedShuffleSplit # flyttes til vores bibliotek\n",
    "from sklearn.preprocessing import StandardScaler\n",
    "from sklearn.linear_model import LinearRegression\n",
    "from sklearn.tree import DecisionTreeRegressor\n",
    "from sklearn.ensemble import RandomForestRegressor\n",
    "from sklearn.model_selection import GridSearchCV\n",
    "from scipy import stats"
   ]
  },
  {
   "cell_type": "markdown",
   "metadata": {},
   "source": [
    "Del 1: På opdagelse i huspris-datasættet\n",
    "---------------------------------------\n",
    "\n",
    "(Jeg tænker måske vi skal lave 2-3 forskellige Notebooks, med hver sin del - den første mest datavisualisering fx)"
   ]
  },
  {
   "cell_type": "code",
   "execution_count": null,
   "metadata": {},
   "outputs": [],
   "source": [
    "# Dette skal eleverne skrive\n",
    "housing = datanoutlibD1.download_housing_data()\n",
    "housing.head()"
   ]
  },
  {
   "cell_type": "code",
   "execution_count": null,
   "metadata": {},
   "outputs": [],
   "source": [
    "# Dette skal eleverne skrive\n",
    "housing[\"median_income\"]"
   ]
  },
  {
   "cell_type": "code",
   "execution_count": null,
   "metadata": {},
   "outputs": [],
   "source": [
    "# Dette skal eleverne skrive\n",
    "housing[\"median_income\"].plot.hist()"
   ]
  },
  {
   "cell_type": "code",
   "execution_count": null,
   "metadata": {},
   "outputs": [],
   "source": [
    "# Dette skal eleverne skrive - ændr antal bins\n",
    "housing[\"median_income\"].plot.hist(bins=50)"
   ]
  },
  {
   "cell_type": "code",
   "execution_count": null,
   "metadata": {},
   "outputs": [],
   "source": [
    "# Dette skal eleverne skrive - kig på andre features\n",
    "housing[\"housing_median_age\"].plot.hist(bins=50)"
   ]
  },
  {
   "cell_type": "code",
   "execution_count": null,
   "metadata": {},
   "outputs": [],
   "source": [
    "# Dette skal eleverne skrive - kig på andre features\n",
    "housing[\"households\"].plot.hist(bins=50)"
   ]
  },
  {
   "cell_type": "code",
   "execution_count": null,
   "metadata": {},
   "outputs": [],
   "source": [
    "# Dette skal eleverne skrive - kig på andre features\n",
    "housing[\"latitude\"].plot.hist(bins=50)\n",
    "plot.show() # hvis elever laver flere plots i samme celle skal de adskilles på denne måde, måske\n",
    "            # skal vi bare få dem til altid at skrive plot.show() ??\n",
    "housing[\"longitude\"].plot.hist(bins=50)\n",
    "plot.show()"
   ]
  },
  {
   "cell_type": "code",
   "execution_count": null,
   "metadata": {},
   "outputs": [],
   "source": [
    "# Vi skaber nye attributes udfra kombinitioner af interessante attributer \n",
    "housing[\"rooms_per_household\"] = housing[\"total_rooms\"]/housing[\"households\"]\n",
    "housing[\"bedrooms_per_room\"] = housing[\"total_bedrooms\"]/housing[\"total_rooms\"]\n",
    "housing[\"population_per_household\"]=housing[\"population\"]/housing[\"households\"]"
   ]
  },
  {
   "cell_type": "markdown",
   "metadata": {},
   "source": [
    "Eksempel på opgaver: \n",
    " - Hvad kan vi se ud fra histogram over median indkomst?\n",
    " - Hvad kan vi se ud fra histogram over huses alder?\n",
    " - Kan vi sige noget om sammenhængen mellem huspris og features ind til videre? (Nej, vi har bare set fordelinger)\n",
    " - Kan man se noget ud fra GPS-koordinater (latitude/longitude) på disse histogramer? (Leder videre til næste udforskning hvor plottes på kort)"
   ]
  },
  {
   "cell_type": "markdown",
   "metadata": {},
   "source": [
    "Note: Nedenstående tænker jeg er faserne eleven går igennem ift. plotting af kortet, de retter bare i en enkelt celle, mens det her er præsenteret som en række celler, så man kan se forskellene i løbet af deres vej igennem"
   ]
  },
  {
   "cell_type": "code",
   "execution_count": null,
   "metadata": {},
   "outputs": [],
   "source": [
    "# de 3 plots er gode eksempler på hvordan man kan lære mere\n",
    "# ved at visualisere ens data på forskellige måder\n",
    "housing.plot.scatter(x=\"longitude\", y=\"latitude\")"
   ]
  },
  {
   "cell_type": "code",
   "execution_count": null,
   "metadata": {},
   "outputs": [],
   "source": [
    "# ændr størrelsen på figuren\n",
    "housing.plot.scatter(x=\"longitude\", y=\"latitude\", figsize=(14,10))"
   ]
  },
  {
   "cell_type": "code",
   "execution_count": null,
   "metadata": {},
   "outputs": [],
   "source": [
    "housing.plot.scatter(x=\"longitude\", y=\"latitude\", figsize=(14,10), alpha=0.1)"
   ]
  },
  {
   "cell_type": "code",
   "execution_count": null,
   "metadata": {},
   "outputs": [],
   "source": [
    "# Ændr størrelsen på punkter\n",
    "housing.plot.scatter(x=\"longitude\", y=\"latitude\", figsize=(14,10), alpha=0.1, s=50)"
   ]
  },
  {
   "cell_type": "code",
   "execution_count": null,
   "metadata": {},
   "outputs": [],
   "source": [
    "# Ændr størrelsen af punkter til at svare til befolkningen\n",
    "housing.plot.scatter(x=\"longitude\", y=\"latitude\", figsize=(14,10), alpha=0.1, s=housing[\"population\"])"
   ]
  },
  {
   "cell_type": "code",
   "execution_count": null,
   "metadata": {},
   "outputs": [],
   "source": [
    "# Ændr størrelsen til at svare til befolkningen - skaler ned i størrelse\n",
    "housing.plot.scatter(x=\"longitude\", y=\"latitude\", figsize=(14,10), alpha=0.1, s=housing[\"population\"]/100)"
   ]
  },
  {
   "cell_type": "code",
   "execution_count": null,
   "metadata": {},
   "outputs": [],
   "source": [
    "# Vis huspris i plottet\n",
    "housing.plot.scatter(x=\"longitude\", y=\"latitude\", figsize=(14,10), alpha=0.4,\n",
    "    s=housing[\"population\"]/100,\n",
    "    c=\"median_house_value\", colormap=\"jet\", \n",
    ")"
   ]
  },
  {
   "cell_type": "markdown",
   "metadata": {},
   "source": [
    "Idéer til opgaver:\n",
    " - Vis et kort over median indkomsten - hvad kan man se af forskelle mellem fordeling af median indkomst og huspriser?\n",
    " - Vis et kort over husenes alder - hvad kan man se af forskelle mellem husenes alder og huspriser?"
   ]
  },
  {
   "cell_type": "markdown",
   "metadata": {},
   "source": [
    "Del 2: Find sammenhænge i data\n",
    "---------------------------------------\n",
    " - correlation matrix\n",
    " - scatter matrix af sammenhænge i data"
   ]
  },
  {
   "cell_type": "code",
   "execution_count": null,
   "metadata": {},
   "outputs": [],
   "source": [
    "housing.plot.scatter(x=\"median_income\", y=\"median_house_value\", alpha=0.1)"
   ]
  },
  {
   "cell_type": "code",
   "execution_count": null,
   "metadata": {},
   "outputs": [],
   "source": [
    "housing.plot.scatter(x=\"total_rooms\", y=\"median_house_value\", alpha=0.1)"
   ]
  },
  {
   "cell_type": "code",
   "execution_count": null,
   "metadata": {},
   "outputs": [],
   "source": [
    "housing.plot.scatter(x=\"housing_median_age\", y=\"median_house_value\", alpha=0.1)"
   ]
  },
  {
   "cell_type": "code",
   "execution_count": null,
   "metadata": {},
   "outputs": [],
   "source": [
    "# Jeg tror det her rer for meget data at overskue for en gymnasieelev på en gang\n",
    "attributes = [\"median_house_value\", \"median_income\", \"rooms_per_household\",\n",
    "              \"housing_median_age\"]\n",
    "scatter_matrix(housing[attributes], figsize=(12, 8))"
   ]
  },
  {
   "cell_type": "code",
   "execution_count": null,
   "metadata": {},
   "outputs": [],
   "source": [
    "attributes = [\"rooms_per_household\",\"median_income\"]\n",
    "plot.scatter(housing[\"rooms_per_household\"],housing[\"median_income\"])\n",
    "plot.plot()\n",
    "scatter_matrix(housing[attributes],figsize=(12, 8))"
   ]
  },
  {
   "cell_type": "code",
   "execution_count": null,
   "metadata": {},
   "outputs": [],
   "source": [
    "ax = housing.plot.scatter(x=\"rooms_per_household\", y=\"median_house_value\", alpha=0.1)\n",
    "ax.set_xlim(0, 20) # changing axis"
   ]
  },
  {
   "cell_type": "code",
   "execution_count": null,
   "metadata": {},
   "outputs": [],
   "source": [
    "# Dem med lave indkomster lever både færre og flere sammen, mens de rige har meget mindre spredning\n",
    "ax = housing.plot.scatter(x=\"population_per_household\", y=\"median_income\", alpha=0.1)\n",
    "ax.set_xlim(0, 10) # changing axis"
   ]
  },
  {
   "cell_type": "code",
   "execution_count": null,
   "metadata": {},
   "outputs": [],
   "source": [
    "# Vi kan bruge correlation matricer til at se sammenhæng mellem dimensionerne\n",
    "corr_matrix = housing.corr()\n",
    "corr_matrix"
   ]
  },
  {
   "cell_type": "markdown",
   "metadata": {},
   "source": [
    "Del 3: Forbered træning og testsæt\n",
    "------------------------------------------"
   ]
  },
  {
   "cell_type": "code",
   "execution_count": null,
   "metadata": {},
   "outputs": [],
   "source": [
    "\n",
    "scaler = StandardScaler()\n",
    "scaler.fit(housing)\n",
    "scaled = scaler.transform(housing)"
   ]
  },
  {
   "cell_type": "code",
   "execution_count": null,
   "metadata": {},
   "outputs": [],
   "source": [
    "rest, test_set = np.split(test,[int(len(scaled)*0.9)])\n",
    "\n",
    "\n",
    "data_train, data_test, labels_train, labels_test = train_test_split(rest, housing[\"median_house_value\"], test_size=0.20, random_state=42)\n"
   ]
  },
  {
   "cell_type": "markdown",
   "metadata": {},
   "source": [
    "Del 4: Træning m. 3 forskellige former for regression\n",
    "------------------------------------------\n"
   ]
  },
  {
   "cell_type": "code",
   "execution_count": null,
   "metadata": {},
   "outputs": [],
   "source": [
    "lin_reg = LinearRegression()\n",
    "lin_reg.fit(data_train, labels_train)\n",
    "acc = datanoutlibD1.CalculateAccuracy(data_test, labels_test,lin_reg) \n",
    "acc\n",
    "# MD: beregningen af RMSE synes jeg ikke skal gemmes væk i biblioteket"
   ]
  },
  {
   "cell_type": "code",
   "execution_count": null,
   "metadata": {},
   "outputs": [],
   "source": [
    "some_data = data_train[0:5] # MD: hvad er forskellen på det her og housing[0:5] - det sidste måske simplere?\n",
    "some_labels = labels_test[0:5] # MD: hvad er forskellen på det her og housing_labels[0:5] ?\n",
    "some_data_prepared = scaler.transform(some_data) # MD: er det her ikke blevet gjort tidligere? kan det gøres tidligere, så det ikke skal gøres flere gange?\n",
    "print(\"Predictions:\", lin_reg.predict(some_data_prepared))\n",
    "print(\"Labels:\", list(some_labels))\n"
   ]
  },
  {
   "cell_type": "code",
   "execution_count": null,
   "metadata": {},
   "outputs": [],
   "source": [
    "tree_reg = DecisionTreeRegressor()\n",
    "tree_reg.fit(data_train, labels_train)\n",
    "acc = datanoutlibD1.CalculateAccuracy(data_test, labels_test,tree_reg)\n",
    "print(acc)\n",
    "# MD: igen, beregningen af RMSE synes jeg ikke skal gemmes væk i biblioteket"
   ]
  },
  {
   "cell_type": "code",
   "execution_count": null,
   "metadata": {},
   "outputs": [],
   "source": [
    "# MD: I stedet for at introducere cross validation, så skal vi måske splitte vores data i 3 sæt fra starten:\n",
    "# train (70%), test (20%) og validation (10%)? Eller noget i den stil?\n",
    "\n",
    "tree_cross_val = datanoutlibD1.cross_validate(tree_reg, data_train, labels_train)\n",
    "datanoutlibD1.display_scores(tree_cross_val)"
   ]
  },
  {
   "cell_type": "code",
   "execution_count": null,
   "metadata": {},
   "outputs": [],
   "source": [
    "\n",
    "lin_scores = datanoutlibD1.cross_validate(lin_reg, data_train, labels_train)\n",
    "datanoutlibD1.display_scores(lin_scores)"
   ]
  },
  {
   "cell_type": "code",
   "execution_count": null,
   "metadata": {},
   "outputs": [],
   "source": [
    "\n",
    "forest_reg = RandomForestRegressor()\n",
    "forest_reg.fit(data_train, labels_train)\n",
    "forest_accuracy = datanoutlibD1.CalculateAccuracy(data_test, labels_test,forest_reg)\n",
    "print(forest_accuracy)\n",
    "\n"
   ]
  },
  {
   "cell_type": "markdown",
   "metadata": {},
   "source": [
    "Del 5: Grid search\n",
    "------------------"
   ]
  },
  {
   "cell_type": "code",
   "execution_count": null,
   "metadata": {},
   "outputs": [],
   "source": [
    "# ignorer nedad herfra\n",
    "\n",
    "param_grid = [\n",
    "    {'n_estimators': [3, 10, 30], 'max_features': [2, 4, 6, 8]},\n",
    "    {'bootstrap': [False], 'n_estimators': [3, 10], 'max_features': [2, 3, 4]},\n",
    "  ]\n",
    "\n",
    "forest_reg = RandomForestRegressor()\n",
    "\n",
    "# MD: jeg er ikke sikker på jeg synes vi overhovedet skal gå videre med resten her, men måske bare stoppe her\n",
    "# og så komme mere i dybden med alt det ovenfor. Så S\n",
    "\n",
    "grid_search = GridSearchCV(forest_reg, param_grid, cv=5,\n",
    "                           scoring='neg_mean_squared_error',\n",
    "                           return_train_score=True)\n",
    "\n",
    "grid_search.fit(housing_prepared, housing_labels)"
   ]
  },
  {
   "cell_type": "code",
   "execution_count": null,
   "metadata": {},
   "outputs": [],
   "source": [
    "grid_search.best_params_"
   ]
  },
  {
   "cell_type": "code",
   "execution_count": null,
   "metadata": {},
   "outputs": [],
   "source": [
    "grid_search.best_estimator_"
   ]
  },
  {
   "cell_type": "code",
   "execution_count": null,
   "metadata": {},
   "outputs": [],
   "source": [
    "cvres = grid_search.cv_results_\n",
    "for mean_score, params in zip(cvres[\"mean_test_score\"], cvres[\"params\"]):\n",
    "     print(np.sqrt(-mean_score), params)"
   ]
  },
  {
   "cell_type": "code",
   "execution_count": null,
   "metadata": {},
   "outputs": [],
   "source": [
    "feature_importances = grid_search.best_estimator_.feature_importances_\n",
    "feature_importances"
   ]
  },
  {
   "cell_type": "code",
   "execution_count": null,
   "metadata": {},
   "outputs": [],
   "source": [
    "sorted(zip(feature_importances, attributes), reverse=True)"
   ]
  },
  {
   "cell_type": "code",
   "execution_count": null,
   "metadata": {},
   "outputs": [],
   "source": [
    "final_model = grid_search.best_estimator_\n",
    "\n",
    "X_test = strat_test_set.drop(\"median_house_value\", axis=1)\n",
    "y_test = strat_test_set[\"median_house_value\"].copy()\n",
    "\n",
    "X_test_prepared = num_pipeline.transform(X_test)\n",
    "\n",
    "final_predictions = final_model.predict(X_test_prepared)\n",
    "\n",
    "final_mse = mean_squared_error(y_test, final_predictions)\n",
    "final_rmse = np.sqrt(final_mse)\n",
    "final_rmse"
   ]
  },
  {
   "cell_type": "code",
   "execution_count": null,
   "metadata": {},
   "outputs": [],
   "source": [
    "\n",
    "confidence = 0.95\n",
    "squared_errors = (final_predictions - y_test) ** 2\n",
    "np.sqrt(stats.t.interval(confidence, len(squared_errors) - 1,\n",
    "                          loc=squared_errors.mean(),\n",
    "                          scale=stats.sem(squared_errors)))"
   ]
  },
  {
   "cell_type": "code",
   "execution_count": null,
   "metadata": {},
   "outputs": [],
   "source": []
  },
  {
   "cell_type": "code",
   "execution_count": null,
   "metadata": {},
   "outputs": [],
   "source": []
  },
  {
   "cell_type": "code",
   "execution_count": null,
   "metadata": {},
   "outputs": [],
   "source": []
  },
  {
   "cell_type": "code",
   "execution_count": null,
   "metadata": {},
   "outputs": [],
   "source": []
  },
  {
   "cell_type": "code",
   "execution_count": null,
   "metadata": {},
   "outputs": [],
   "source": []
  },
  {
   "cell_type": "code",
   "execution_count": null,
   "metadata": {},
   "outputs": [],
   "source": []
  },
  {
   "cell_type": "code",
   "execution_count": null,
   "metadata": {},
   "outputs": [],
   "source": []
  },
  {
   "cell_type": "code",
   "execution_count": null,
   "metadata": {},
   "outputs": [],
   "source": []
  }
 ],
 "metadata": {
  "kernelspec": {
   "display_name": "Python 3",
   "language": "python",
   "name": "python3"
  },
  "language_info": {
   "codemirror_mode": {
    "name": "ipython",
    "version": 3
   },
   "file_extension": ".py",
   "mimetype": "text/x-python",
   "name": "python",
   "nbconvert_exporter": "python",
   "pygments_lexer": "ipython3",
   "version": "3.7.3"
  }
 },
 "nbformat": 4,
 "nbformat_minor": 4
}
