{
 "cells": [
  {
   "cell_type": "code",
   "execution_count": null,
   "metadata": {},
   "outputs": [],
   "source": [
    "import pandas\n",
    "import numpy as np\n",
    "import housing_util\n",
    "\n",
    "housing = housing_util.download_housing_data()"
   ]
  },
  {
   "cell_type": "code",
   "execution_count": null,
   "metadata": {},
   "outputs": [],
   "source": [
    "housing.head"
   ]
  },
  {
   "cell_type": "code",
   "execution_count": null,
   "metadata": {},
   "outputs": [],
   "source": [
    "len(housing)"
   ]
  },
  {
   "cell_type": "code",
   "execution_count": null,
   "metadata": {},
   "outputs": [],
   "source": [
    "gennemsnit = np.sum(housing[\"median_income\"]/len(housing))\n",
    "gennemsnit"
   ]
  },
  {
   "cell_type": "code",
   "execution_count": null,
   "metadata": {},
   "outputs": [],
   "source": [
    "\n",
    "import matplotlib.pyplot as plot\n",
    "housing[\"median_income\"].plot.hist(bins=10)"
   ]
  },
  {
   "cell_type": "code",
   "execution_count": null,
   "metadata": {},
   "outputs": [],
   "source": [
    "housing[\"median_income\"].plot.hist(bins=50)"
   ]
  },
  {
   "cell_type": "code",
   "execution_count": null,
   "metadata": {},
   "outputs": [],
   "source": [
    "housing.plot.scatter(x=\"longitude\",y=\"latitude\", figsize=(14,10))"
   ]
  },
  {
   "cell_type": "code",
   "execution_count": null,
   "metadata": {},
   "outputs": [],
   "source": [
    "housing.plot.scatter(x=\"longitude\",y=\"latitude\",figsize=(14,10),alpha=0.1)"
   ]
  },
  {
   "cell_type": "code",
   "execution_count": null,
   "metadata": {},
   "outputs": [],
   "source": [
    "housing.plot.scatter(x=\"longitude\",y=\"latitude\",figsize=(14,10),alpha=0.1,s=50)"
   ]
  },
  {
   "cell_type": "code",
   "execution_count": null,
   "metadata": {},
   "outputs": [],
   "source": [
    "housing.plot.scatter(x=\"longitude\",y=\"latitude\",figsize=(14,10),alpha=0.1,s=housing[\"population\"])"
   ]
  },
  {
   "cell_type": "code",
   "execution_count": null,
   "metadata": {},
   "outputs": [],
   "source": [
    "housing.plot.scatter(x=\"longitude\",y=\"latitude\", figsize=(14,10), alpha=0.4, s=housing[\"population\"]/100, \n",
    "                     c=\"median_house_value\",colormap=\"jet\")"
   ]
  },
  {
   "cell_type": "code",
   "execution_count": null,
   "metadata": {},
   "outputs": [],
   "source": [
    "corr_matrix = housing.corr()\n",
    "corr_matrix"
   ]
  },
  {
   "cell_type": "code",
   "execution_count": null,
   "metadata": {},
   "outputs": [],
   "source": [
    "housing.plot.scatter(x=\"median_income\",y=\"median_house_value\",alpha=0.1)"
   ]
  },
  {
   "cell_type": "code",
   "execution_count": null,
   "metadata": {},
   "outputs": [],
   "source": [
    "housing[\"rooms_per_household\"]= housing[\"total_rooms\"]/housing[\"households\"]\n",
    "ax=housing.plot.scatter(x=\"rooms_per_household\", y=\"median_house_value\", alpha=0.1)\n",
    "ax.set_xlim(0,20)"
   ]
  },
  {
   "cell_type": "code",
   "execution_count": null,
   "metadata": {},
   "outputs": [],
   "source": [
    "housing[\"bedrooms_per_household\"] = housing[\"total_bedrooms\"]/housing[\"households\"]\n",
    "housing[\"population_per_household\"] = housing[\"population\"]/housing[\"households\"]\n",
    "ax=housing.plot.scatter(x=\"bedrooms_per_household\", y=\"median_income\", alpha=0.1)\n",
    "ax.set_xlim(0,20)"
   ]
  },
  {
   "cell_type": "code",
   "execution_count": null,
   "metadata": {},
   "outputs": [],
   "source": [
    "ax=housing.plot.scatter(x=\"population_per_household\", y=\"median_income\", alpha=0.1)\n",
    "ax.set_xlim(0,20)"
   ]
  },
  {
   "cell_type": "markdown",
   "metadata": {},
   "source": [
    "Forbered træning og testsæt\n",
    "--------------------------"
   ]
  },
  {
   "cell_type": "code",
   "execution_count": null,
   "metadata": {},
   "outputs": [],
   "source": [
    "test_size = int(len(housing)*0.1)\n",
    "validation_set, rest = np.split(housing,[test_size])\n",
    "print(housing.shape)\n",
    "print(validation_set.shape)\n",
    "print(rest.shape)"
   ]
  },
  {
   "cell_type": "code",
   "execution_count": null,
   "metadata": {},
   "outputs": [],
   "source": [
    "test_set, training_set = np.split(rest,[test_size])"
   ]
  },
  {
   "cell_type": "code",
   "execution_count": null,
   "metadata": {},
   "outputs": [],
   "source": [
    "test_data = test_set.drop(\"median_house_value\", axis = 1)\n",
    "test_labels = test_set[\"median_house_value\"]\n",
    "\n",
    "validation_data = validation_set.drop(\"median_house_value\", axis = 1)\n",
    "validation_labels = validation_set[\"median_house_value\"]\n",
    "\n",
    "training_data = training_set.drop(\"median_house_value\", axis=1)\n",
    "training_labels = training_set[\"median_house_value\"]"
   ]
  },
  {
   "cell_type": "code",
   "execution_count": null,
   "metadata": {},
   "outputs": [],
   "source": [
    "from sklearn.preprocessing import StandardScaler\n",
    "scaler = StandardScaler()\n",
    "scaler.fit(test_data)\n",
    "scaled_test_data = scaler.transform(test_data)\n",
    "\n",
    "scaler.fit(validation_data)\n",
    "scaled_validation_data = scaler.transform(validation_data)\n",
    "\n",
    "scaler.fit(training_data)\n",
    "scaled_training_data = scaler.transform(training_data)"
   ]
  },
  {
   "cell_type": "markdown",
   "metadata": {},
   "source": [
    "Træning af machine learning modeller\n",
    "------------------------------------"
   ]
  },
  {
   "cell_type": "code",
   "execution_count": null,
   "metadata": {},
   "outputs": [],
   "source": [
    "from sklearn.linear_model import LinearRegression\n",
    "lin_reg = LinearRegression()\n",
    "lin_reg.fit(scaled_training_data, training_labels)"
   ]
  },
  {
   "cell_type": "code",
   "execution_count": null,
   "metadata": {},
   "outputs": [],
   "source": [
    "from sklearn.tree import DecisionTreeRegressor\n",
    "lin_reg_mse = housing_util.CalculateAccuracy(scaled_test_data, test_labels, lin_reg)\n",
    "rmse = np.sqrt(lin_reg_mse)\n",
    "print(\"LinearRegressor: \" + str(rmse))\n",
    "\n",
    "tree_reg = DecisionTreeRegressor()\n",
    "tree_reg.fit(scaled_training_data, training_labels)\n",
    "decision_tree_mse = housing_util.CalculateAccuracy(scaled_test_data, test_labels, tree_reg)\n",
    "rmse = np.sqrt(decision_tree_mse)\n",
    "print(\"DecisionTree: \" + str(rmse))"
   ]
  },
  {
   "cell_type": "code",
   "execution_count": null,
   "metadata": {},
   "outputs": [],
   "source": [
    "from sklearn.ensemble import RandomForestRegressor\n",
    "\n",
    "forest_reg = RandomForestRegressor()\n",
    "forest_reg.fit(scaled_training_data, training_labels)\n",
    "random_forest_mse = housing_util.CalculateAccuracy(scaled_test_data, test_labels, forest_reg)\n",
    "rmse = np.sqrt(random_forest_mse)\n",
    "print(\"RandomForest: \" + str(rmse))"
   ]
  },
  {
   "cell_type": "code",
   "execution_count": null,
   "metadata": {},
   "outputs": [],
   "source": []
  }
 ],
 "metadata": {
  "kernelspec": {
   "display_name": "Python 3",
   "language": "python",
   "name": "python3"
  },
  "language_info": {
   "codemirror_mode": {
    "name": "ipython",
    "version": 3
   },
   "file_extension": ".py",
   "mimetype": "text/x-python",
   "name": "python",
   "nbconvert_exporter": "python",
   "pygments_lexer": "ipython3",
   "version": "3.7.3"
  }
 },
 "nbformat": 4,
 "nbformat_minor": 2
}
